{
 "cells": [
  {
   "cell_type": "raw",
   "id": "a64a3258-e030-4127-8f30-5d0b1507bc2d",
   "metadata": {},
   "source": [
    "Adding Sentiment analysis labels in the data"
   ]
  },
  {
   "cell_type": "raw",
   "id": "0816be71-da25-49e3-9846-eab924eebaec",
   "metadata": {},
   "source": [
    "WE will use Textblob library . Textblob provides a polarity scores ranking from -1 (very negetive) to 1(very positive) for a given text.\n",
    "we can use this core to classify each review's sentiment as positive , negetive or neutral .\n"
   ]
  },
  {
   "cell_type": "code",
   "execution_count": 9,
   "id": "5a2dd53b-0213-46ee-9e80-3c13694dbf51",
   "metadata": {},
   "outputs": [],
   "source": [
    "import pandas as pd"
   ]
  },
  {
   "cell_type": "code",
   "execution_count": 10,
   "id": "035d5bad-af72-43ab-bf15-8739579afea5",
   "metadata": {},
   "outputs": [],
   "source": [
    "df = pd.read_csv(\"linkedin-reviews.csv\")"
   ]
  },
  {
   "cell_type": "code",
   "execution_count": 11,
   "id": "62f263c8-56e2-4fab-a5e7-596bec2c5b92",
   "metadata": {},
   "outputs": [
    {
     "name": "stdout",
     "output_type": "stream",
     "text": [
      "Requirement already satisfied: textblob in d:\\anacondanavfile\\lib\\site-packages (0.19.0)\n",
      "Requirement already satisfied: nltk>=3.9 in d:\\anacondanavfile\\lib\\site-packages (from textblob) (3.9.1)\n",
      "Requirement already satisfied: click in d:\\anacondanavfile\\lib\\site-packages (from nltk>=3.9->textblob) (8.1.7)\n",
      "Requirement already satisfied: joblib in d:\\anacondanavfile\\lib\\site-packages (from nltk>=3.9->textblob) (1.4.2)\n",
      "Requirement already satisfied: regex>=2021.8.3 in d:\\anacondanavfile\\lib\\site-packages (from nltk>=3.9->textblob) (2024.9.11)\n",
      "Requirement already satisfied: tqdm in d:\\anacondanavfile\\lib\\site-packages (from nltk>=3.9->textblob) (4.66.5)\n",
      "Requirement already satisfied: colorama in d:\\anacondanavfile\\lib\\site-packages (from click->nltk>=3.9->textblob) (0.4.6)\n",
      "Note: you may need to restart the kernel to use updated packages.\n"
     ]
    }
   ],
   "source": [
    "pip install textblob"
   ]
  },
  {
   "cell_type": "code",
   "execution_count": 12,
   "id": "7e604d91-2800-4ac9-8fa1-39e559f89b76",
   "metadata": {},
   "outputs": [],
   "source": [
    "from textblob import TextBlob"
   ]
  },
  {
   "cell_type": "code",
   "execution_count": 25,
   "id": "cef8bc4f-0650-43ee-9f83-fc7d6ea83825",
   "metadata": {},
   "outputs": [],
   "source": [
    "def textblob_sentiment_analysis(review):\n",
    "    sentiment = TextBlob(review).sentiment\n",
    "    if sentiment.polarity > 0.1:\n",
    "        return \"positive\"\n",
    "    elif sentiment.polarity < -0.1:\n",
    "        return \"Negetive\"\n",
    "    else :\n",
    "        return \"neutral\""
   ]
  },
  {
   "cell_type": "code",
   "execution_count": 26,
   "id": "36fddd72-0f7e-4aec-a267-81ed8ae3eafa",
   "metadata": {},
   "outputs": [],
   "source": [
    "df['Sentiment'] = df['Review'].apply(textblob_sentiment_analysis)"
   ]
  },
  {
   "cell_type": "code",
   "execution_count": 24,
   "id": "3fc41359-8de8-4a7f-ab4b-f457138484db",
   "metadata": {},
   "outputs": [
    {
     "name": "stdout",
     "output_type": "stream",
     "text": [
      "Requirement already satisfied: jupyter-ai in d:\\anacondanavfile\\lib\\site-packages (2.29.1)\n",
      "Requirement already satisfied: aiosqlite>=0.18 in d:\\anacondanavfile\\lib\\site-packages (from jupyter-ai) (0.21.0)\n",
      "Requirement already satisfied: dask[distributed] in d:\\anacondanavfile\\lib\\site-packages (from jupyter-ai) (2024.8.2)\n",
      "Requirement already satisfied: deepmerge<3,>=2.0 in d:\\anacondanavfile\\lib\\site-packages (from jupyter-ai) (2.0)\n",
      "Requirement already satisfied: faiss-cpu!=1.8.0.post0,<2.0.0,>=1.8.0 in d:\\anacondanavfile\\lib\\site-packages (from jupyter-ai) (1.10.0)\n",
      "Requirement already satisfied: importlib-metadata>=5.2.0 in d:\\anacondanavfile\\lib\\site-packages (from jupyter-ai) (7.0.1)\n",
      "Requirement already satisfied: jupyter-ai-magics>=2.13.0 in d:\\anacondanavfile\\lib\\site-packages (from jupyter-ai) (2.29.1)\n",
      "Requirement already satisfied: jupyter-server<3,>=1.6 in d:\\anacondanavfile\\lib\\site-packages (from jupyter-ai) (2.14.1)\n",
      "Requirement already satisfied: jupyterlab~=4.0 in d:\\anacondanavfile\\lib\\site-packages (from jupyter-ai) (4.2.5)\n",
      "Requirement already satisfied: pydantic~=2.0 in d:\\anacondanavfile\\lib\\site-packages (from jupyter-ai) (2.8.2)\n",
      "Requirement already satisfied: traitlets>=5.0 in d:\\anacondanavfile\\lib\\site-packages (from jupyter-ai) (5.14.3)\n",
      "Requirement already satisfied: typing-extensions>=4.5.0 in d:\\anacondanavfile\\lib\\site-packages (from jupyter-ai) (4.11.0)\n",
      "Requirement already satisfied: numpy<3.0,>=1.25.0 in d:\\anacondanavfile\\lib\\site-packages (from faiss-cpu!=1.8.0.post0,<2.0.0,>=1.8.0->jupyter-ai) (1.26.4)\n",
      "Requirement already satisfied: packaging in d:\\anacondanavfile\\lib\\site-packages (from faiss-cpu!=1.8.0.post0,<2.0.0,>=1.8.0->jupyter-ai) (24.1)\n",
      "Requirement already satisfied: zipp>=0.5 in d:\\anacondanavfile\\lib\\site-packages (from importlib-metadata>=5.2.0->jupyter-ai) (3.17.0)\n",
      "Requirement already satisfied: click~=8.0 in d:\\anacondanavfile\\lib\\site-packages (from jupyter-ai-magics>=2.13.0->jupyter-ai) (8.1.7)\n",
      "Requirement already satisfied: ipython in d:\\anacondanavfile\\lib\\site-packages (from jupyter-ai-magics>=2.13.0->jupyter-ai) (8.27.0)\n",
      "Requirement already satisfied: jsonpath-ng<2,>=1.5.3 in d:\\anacondanavfile\\lib\\site-packages (from jupyter-ai-magics>=2.13.0->jupyter-ai) (1.7.0)\n",
      "Requirement already satisfied: langchain-community<0.4.0,>=0.3.0 in d:\\anacondanavfile\\lib\\site-packages (from jupyter-ai-magics>=2.13.0->jupyter-ai) (0.3.19)\n",
      "Requirement already satisfied: langchain<0.4.0,>=0.3.0 in d:\\anacondanavfile\\lib\\site-packages (from jupyter-ai-magics>=2.13.0->jupyter-ai) (0.3.20)\n",
      "Requirement already satisfied: anyio>=3.1.0 in d:\\anacondanavfile\\lib\\site-packages (from jupyter-server<3,>=1.6->jupyter-ai) (4.2.0)\n",
      "Requirement already satisfied: argon2-cffi>=21.1 in d:\\anacondanavfile\\lib\\site-packages (from jupyter-server<3,>=1.6->jupyter-ai) (21.3.0)\n",
      "Requirement already satisfied: jinja2>=3.0.3 in d:\\anacondanavfile\\lib\\site-packages (from jupyter-server<3,>=1.6->jupyter-ai) (3.1.4)\n",
      "Requirement already satisfied: jupyter-client>=7.4.4 in d:\\anacondanavfile\\lib\\site-packages (from jupyter-server<3,>=1.6->jupyter-ai) (8.6.0)\n",
      "Requirement already satisfied: jupyter-core!=5.0.*,>=4.12 in d:\\anacondanavfile\\lib\\site-packages (from jupyter-server<3,>=1.6->jupyter-ai) (5.7.2)\n",
      "Requirement already satisfied: jupyter-events>=0.9.0 in d:\\anacondanavfile\\lib\\site-packages (from jupyter-server<3,>=1.6->jupyter-ai) (0.10.0)\n",
      "Requirement already satisfied: jupyter-server-terminals>=0.4.4 in d:\\anacondanavfile\\lib\\site-packages (from jupyter-server<3,>=1.6->jupyter-ai) (0.4.4)\n",
      "Requirement already satisfied: nbconvert>=6.4.4 in d:\\anacondanavfile\\lib\\site-packages (from jupyter-server<3,>=1.6->jupyter-ai) (7.16.4)\n",
      "Requirement already satisfied: nbformat>=5.3.0 in d:\\anacondanavfile\\lib\\site-packages (from jupyter-server<3,>=1.6->jupyter-ai) (5.10.4)\n",
      "Requirement already satisfied: overrides>=5.0 in d:\\anacondanavfile\\lib\\site-packages (from jupyter-server<3,>=1.6->jupyter-ai) (7.4.0)\n",
      "Requirement already satisfied: prometheus-client>=0.9 in d:\\anacondanavfile\\lib\\site-packages (from jupyter-server<3,>=1.6->jupyter-ai) (0.14.1)\n",
      "Requirement already satisfied: pywinpty>=2.0.1 in d:\\anacondanavfile\\lib\\site-packages (from jupyter-server<3,>=1.6->jupyter-ai) (2.0.10)\n",
      "Requirement already satisfied: pyzmq>=24 in d:\\anacondanavfile\\lib\\site-packages (from jupyter-server<3,>=1.6->jupyter-ai) (25.1.2)\n",
      "Requirement already satisfied: send2trash>=1.8.2 in d:\\anacondanavfile\\lib\\site-packages (from jupyter-server<3,>=1.6->jupyter-ai) (1.8.2)\n",
      "Requirement already satisfied: terminado>=0.8.3 in d:\\anacondanavfile\\lib\\site-packages (from jupyter-server<3,>=1.6->jupyter-ai) (0.17.1)\n",
      "Requirement already satisfied: tornado>=6.2.0 in d:\\anacondanavfile\\lib\\site-packages (from jupyter-server<3,>=1.6->jupyter-ai) (6.4.1)\n",
      "Requirement already satisfied: websocket-client>=1.7 in d:\\anacondanavfile\\lib\\site-packages (from jupyter-server<3,>=1.6->jupyter-ai) (1.8.0)\n",
      "Requirement already satisfied: async-lru>=1.0.0 in d:\\anacondanavfile\\lib\\site-packages (from jupyterlab~=4.0->jupyter-ai) (2.0.4)\n",
      "Requirement already satisfied: httpx>=0.25.0 in d:\\anacondanavfile\\lib\\site-packages (from jupyterlab~=4.0->jupyter-ai) (0.27.0)\n",
      "Requirement already satisfied: ipykernel>=6.5.0 in d:\\anacondanavfile\\lib\\site-packages (from jupyterlab~=4.0->jupyter-ai) (6.28.0)\n",
      "Requirement already satisfied: jupyter-lsp>=2.0.0 in d:\\anacondanavfile\\lib\\site-packages (from jupyterlab~=4.0->jupyter-ai) (2.2.0)\n",
      "Requirement already satisfied: jupyterlab-server<3,>=2.27.1 in d:\\anacondanavfile\\lib\\site-packages (from jupyterlab~=4.0->jupyter-ai) (2.27.3)\n",
      "Requirement already satisfied: notebook-shim>=0.2 in d:\\anacondanavfile\\lib\\site-packages (from jupyterlab~=4.0->jupyter-ai) (0.2.3)\n",
      "Requirement already satisfied: setuptools>=40.1.0 in d:\\anacondanavfile\\lib\\site-packages (from jupyterlab~=4.0->jupyter-ai) (75.1.0)\n",
      "Requirement already satisfied: annotated-types>=0.4.0 in d:\\anacondanavfile\\lib\\site-packages (from pydantic~=2.0->jupyter-ai) (0.6.0)\n",
      "Requirement already satisfied: pydantic-core==2.20.1 in d:\\anacondanavfile\\lib\\site-packages (from pydantic~=2.0->jupyter-ai) (2.20.1)\n",
      "Requirement already satisfied: cloudpickle>=3.0.0 in d:\\anacondanavfile\\lib\\site-packages (from dask[distributed]->jupyter-ai) (3.0.0)\n",
      "Requirement already satisfied: fsspec>=2021.09.0 in d:\\anacondanavfile\\lib\\site-packages (from dask[distributed]->jupyter-ai) (2024.6.1)\n",
      "Requirement already satisfied: partd>=1.4.0 in d:\\anacondanavfile\\lib\\site-packages (from dask[distributed]->jupyter-ai) (1.4.1)\n",
      "Requirement already satisfied: pyyaml>=5.3.1 in d:\\anacondanavfile\\lib\\site-packages (from dask[distributed]->jupyter-ai) (6.0.1)\n",
      "Requirement already satisfied: toolz>=0.10.0 in d:\\anacondanavfile\\lib\\site-packages (from dask[distributed]->jupyter-ai) (0.12.0)\n",
      "Requirement already satisfied: distributed==2024.8.2 in d:\\anacondanavfile\\lib\\site-packages (from dask[distributed]->jupyter-ai) (2024.8.2)\n",
      "Requirement already satisfied: locket>=1.0.0 in d:\\anacondanavfile\\lib\\site-packages (from distributed==2024.8.2->dask[distributed]->jupyter-ai) (1.0.0)\n",
      "Requirement already satisfied: msgpack>=1.0.2 in d:\\anacondanavfile\\lib\\site-packages (from distributed==2024.8.2->dask[distributed]->jupyter-ai) (1.0.3)\n",
      "Requirement already satisfied: psutil>=5.8.0 in d:\\anacondanavfile\\lib\\site-packages (from distributed==2024.8.2->dask[distributed]->jupyter-ai) (5.9.0)\n",
      "Requirement already satisfied: sortedcontainers>=2.0.5 in d:\\anacondanavfile\\lib\\site-packages (from distributed==2024.8.2->dask[distributed]->jupyter-ai) (2.4.0)\n",
      "Requirement already satisfied: tblib>=1.6.0 in d:\\anacondanavfile\\lib\\site-packages (from distributed==2024.8.2->dask[distributed]->jupyter-ai) (1.7.0)\n",
      "Requirement already satisfied: urllib3>=1.26.5 in d:\\anacondanavfile\\lib\\site-packages (from distributed==2024.8.2->dask[distributed]->jupyter-ai) (2.2.3)\n",
      "Requirement already satisfied: zict>=3.0.0 in d:\\anacondanavfile\\lib\\site-packages (from distributed==2024.8.2->dask[distributed]->jupyter-ai) (3.0.0)\n",
      "Requirement already satisfied: idna>=2.8 in d:\\anacondanavfile\\lib\\site-packages (from anyio>=3.1.0->jupyter-server<3,>=1.6->jupyter-ai) (3.7)\n",
      "Requirement already satisfied: sniffio>=1.1 in d:\\anacondanavfile\\lib\\site-packages (from anyio>=3.1.0->jupyter-server<3,>=1.6->jupyter-ai) (1.3.0)\n",
      "Requirement already satisfied: argon2-cffi-bindings in d:\\anacondanavfile\\lib\\site-packages (from argon2-cffi>=21.1->jupyter-server<3,>=1.6->jupyter-ai) (21.2.0)\n",
      "Requirement already satisfied: colorama in d:\\anacondanavfile\\lib\\site-packages (from click~=8.0->jupyter-ai-magics>=2.13.0->jupyter-ai) (0.4.6)\n",
      "Requirement already satisfied: certifi in d:\\anacondanavfile\\lib\\site-packages (from httpx>=0.25.0->jupyterlab~=4.0->jupyter-ai) (2024.8.30)\n",
      "Requirement already satisfied: httpcore==1.* in d:\\anacondanavfile\\lib\\site-packages (from httpx>=0.25.0->jupyterlab~=4.0->jupyter-ai) (1.0.2)\n",
      "Requirement already satisfied: h11<0.15,>=0.13 in d:\\anacondanavfile\\lib\\site-packages (from httpcore==1.*->httpx>=0.25.0->jupyterlab~=4.0->jupyter-ai) (0.14.0)\n",
      "Requirement already satisfied: comm>=0.1.1 in d:\\anacondanavfile\\lib\\site-packages (from ipykernel>=6.5.0->jupyterlab~=4.0->jupyter-ai) (0.2.1)\n",
      "Requirement already satisfied: debugpy>=1.6.5 in d:\\anacondanavfile\\lib\\site-packages (from ipykernel>=6.5.0->jupyterlab~=4.0->jupyter-ai) (1.6.7)\n",
      "Requirement already satisfied: matplotlib-inline>=0.1 in d:\\anacondanavfile\\lib\\site-packages (from ipykernel>=6.5.0->jupyterlab~=4.0->jupyter-ai) (0.1.6)\n",
      "Requirement already satisfied: nest-asyncio in d:\\anacondanavfile\\lib\\site-packages (from ipykernel>=6.5.0->jupyterlab~=4.0->jupyter-ai) (1.6.0)\n",
      "Requirement already satisfied: decorator in d:\\anacondanavfile\\lib\\site-packages (from ipython->jupyter-ai-magics>=2.13.0->jupyter-ai) (5.1.1)\n",
      "Requirement already satisfied: jedi>=0.16 in d:\\anacondanavfile\\lib\\site-packages (from ipython->jupyter-ai-magics>=2.13.0->jupyter-ai) (0.19.1)\n",
      "Requirement already satisfied: prompt-toolkit<3.1.0,>=3.0.41 in d:\\anacondanavfile\\lib\\site-packages (from ipython->jupyter-ai-magics>=2.13.0->jupyter-ai) (3.0.43)\n",
      "Requirement already satisfied: pygments>=2.4.0 in d:\\anacondanavfile\\lib\\site-packages (from ipython->jupyter-ai-magics>=2.13.0->jupyter-ai) (2.15.1)\n",
      "Requirement already satisfied: stack-data in d:\\anacondanavfile\\lib\\site-packages (from ipython->jupyter-ai-magics>=2.13.0->jupyter-ai) (0.2.0)\n",
      "Requirement already satisfied: MarkupSafe>=2.0 in d:\\anacondanavfile\\lib\\site-packages (from jinja2>=3.0.3->jupyter-server<3,>=1.6->jupyter-ai) (2.1.3)\n",
      "Requirement already satisfied: ply in d:\\anacondanavfile\\lib\\site-packages (from jsonpath-ng<2,>=1.5.3->jupyter-ai-magics>=2.13.0->jupyter-ai) (3.11)\n",
      "Requirement already satisfied: python-dateutil>=2.8.2 in d:\\anacondanavfile\\lib\\site-packages (from jupyter-client>=7.4.4->jupyter-server<3,>=1.6->jupyter-ai) (2.9.0.post0)\n",
      "Requirement already satisfied: platformdirs>=2.5 in d:\\anacondanavfile\\lib\\site-packages (from jupyter-core!=5.0.*,>=4.12->jupyter-server<3,>=1.6->jupyter-ai) (3.10.0)\n",
      "Requirement already satisfied: pywin32>=300 in d:\\anacondanavfile\\lib\\site-packages (from jupyter-core!=5.0.*,>=4.12->jupyter-server<3,>=1.6->jupyter-ai) (305.1)\n",
      "Requirement already satisfied: jsonschema>=4.18.0 in d:\\anacondanavfile\\lib\\site-packages (from jsonschema[format-nongpl]>=4.18.0->jupyter-events>=0.9.0->jupyter-server<3,>=1.6->jupyter-ai) (4.23.0)\n",
      "Requirement already satisfied: python-json-logger>=2.0.4 in d:\\anacondanavfile\\lib\\site-packages (from jupyter-events>=0.9.0->jupyter-server<3,>=1.6->jupyter-ai) (2.0.7)\n",
      "Requirement already satisfied: referencing in d:\\anacondanavfile\\lib\\site-packages (from jupyter-events>=0.9.0->jupyter-server<3,>=1.6->jupyter-ai) (0.30.2)\n",
      "Requirement already satisfied: rfc3339-validator in d:\\anacondanavfile\\lib\\site-packages (from jupyter-events>=0.9.0->jupyter-server<3,>=1.6->jupyter-ai) (0.1.4)\n",
      "Requirement already satisfied: rfc3986-validator>=0.1.1 in d:\\anacondanavfile\\lib\\site-packages (from jupyter-events>=0.9.0->jupyter-server<3,>=1.6->jupyter-ai) (0.1.1)\n",
      "Requirement already satisfied: babel>=2.10 in d:\\anacondanavfile\\lib\\site-packages (from jupyterlab-server<3,>=2.27.1->jupyterlab~=4.0->jupyter-ai) (2.11.0)\n",
      "Requirement already satisfied: json5>=0.9.0 in d:\\anacondanavfile\\lib\\site-packages (from jupyterlab-server<3,>=2.27.1->jupyterlab~=4.0->jupyter-ai) (0.9.6)\n",
      "Requirement already satisfied: requests>=2.31 in d:\\anacondanavfile\\lib\\site-packages (from jupyterlab-server<3,>=2.27.1->jupyterlab~=4.0->jupyter-ai) (2.32.3)\n",
      "Requirement already satisfied: langchain-core<1.0.0,>=0.3.41 in d:\\anacondanavfile\\lib\\site-packages (from langchain<0.4.0,>=0.3.0->jupyter-ai-magics>=2.13.0->jupyter-ai) (0.3.44)\n",
      "Requirement already satisfied: langchain-text-splitters<1.0.0,>=0.3.6 in d:\\anacondanavfile\\lib\\site-packages (from langchain<0.4.0,>=0.3.0->jupyter-ai-magics>=2.13.0->jupyter-ai) (0.3.6)\n",
      "Requirement already satisfied: langsmith<0.4,>=0.1.17 in d:\\anacondanavfile\\lib\\site-packages (from langchain<0.4.0,>=0.3.0->jupyter-ai-magics>=2.13.0->jupyter-ai) (0.3.13)\n",
      "Requirement already satisfied: SQLAlchemy<3,>=1.4 in d:\\anacondanavfile\\lib\\site-packages (from langchain<0.4.0,>=0.3.0->jupyter-ai-magics>=2.13.0->jupyter-ai) (2.0.34)\n",
      "Requirement already satisfied: aiohttp<4.0.0,>=3.8.3 in d:\\anacondanavfile\\lib\\site-packages (from langchain-community<0.4.0,>=0.3.0->jupyter-ai-magics>=2.13.0->jupyter-ai) (3.10.5)\n",
      "Requirement already satisfied: tenacity!=8.4.0,<10,>=8.1.0 in d:\\anacondanavfile\\lib\\site-packages (from langchain-community<0.4.0,>=0.3.0->jupyter-ai-magics>=2.13.0->jupyter-ai) (8.2.3)\n",
      "Requirement already satisfied: dataclasses-json<0.7,>=0.5.7 in d:\\anacondanavfile\\lib\\site-packages (from langchain-community<0.4.0,>=0.3.0->jupyter-ai-magics>=2.13.0->jupyter-ai) (0.6.7)\n",
      "Requirement already satisfied: pydantic-settings<3.0.0,>=2.4.0 in d:\\anacondanavfile\\lib\\site-packages (from langchain-community<0.4.0,>=0.3.0->jupyter-ai-magics>=2.13.0->jupyter-ai) (2.8.1)\n",
      "Requirement already satisfied: httpx-sse<1.0.0,>=0.4.0 in d:\\anacondanavfile\\lib\\site-packages (from langchain-community<0.4.0,>=0.3.0->jupyter-ai-magics>=2.13.0->jupyter-ai) (0.4.0)\n",
      "Requirement already satisfied: beautifulsoup4 in d:\\anacondanavfile\\lib\\site-packages (from nbconvert>=6.4.4->jupyter-server<3,>=1.6->jupyter-ai) (4.12.3)\n",
      "Requirement already satisfied: bleach!=5.0.0 in d:\\anacondanavfile\\lib\\site-packages (from nbconvert>=6.4.4->jupyter-server<3,>=1.6->jupyter-ai) (4.1.0)\n",
      "Requirement already satisfied: defusedxml in d:\\anacondanavfile\\lib\\site-packages (from nbconvert>=6.4.4->jupyter-server<3,>=1.6->jupyter-ai) (0.7.1)\n",
      "Requirement already satisfied: jupyterlab-pygments in d:\\anacondanavfile\\lib\\site-packages (from nbconvert>=6.4.4->jupyter-server<3,>=1.6->jupyter-ai) (0.1.2)\n",
      "Requirement already satisfied: mistune<4,>=2.0.3 in d:\\anacondanavfile\\lib\\site-packages (from nbconvert>=6.4.4->jupyter-server<3,>=1.6->jupyter-ai) (2.0.4)\n",
      "Requirement already satisfied: nbclient>=0.5.0 in d:\\anacondanavfile\\lib\\site-packages (from nbconvert>=6.4.4->jupyter-server<3,>=1.6->jupyter-ai) (0.8.0)\n",
      "Requirement already satisfied: pandocfilters>=1.4.1 in d:\\anacondanavfile\\lib\\site-packages (from nbconvert>=6.4.4->jupyter-server<3,>=1.6->jupyter-ai) (1.5.0)\n",
      "Requirement already satisfied: tinycss2 in d:\\anacondanavfile\\lib\\site-packages (from nbconvert>=6.4.4->jupyter-server<3,>=1.6->jupyter-ai) (1.2.1)\n",
      "Requirement already satisfied: fastjsonschema>=2.15 in d:\\anacondanavfile\\lib\\site-packages (from nbformat>=5.3.0->jupyter-server<3,>=1.6->jupyter-ai) (2.16.2)\n",
      "Requirement already satisfied: aiohappyeyeballs>=2.3.0 in d:\\anacondanavfile\\lib\\site-packages (from aiohttp<4.0.0,>=3.8.3->langchain-community<0.4.0,>=0.3.0->jupyter-ai-magics>=2.13.0->jupyter-ai) (2.4.0)\n",
      "Requirement already satisfied: aiosignal>=1.1.2 in d:\\anacondanavfile\\lib\\site-packages (from aiohttp<4.0.0,>=3.8.3->langchain-community<0.4.0,>=0.3.0->jupyter-ai-magics>=2.13.0->jupyter-ai) (1.2.0)\n",
      "Requirement already satisfied: attrs>=17.3.0 in d:\\anacondanavfile\\lib\\site-packages (from aiohttp<4.0.0,>=3.8.3->langchain-community<0.4.0,>=0.3.0->jupyter-ai-magics>=2.13.0->jupyter-ai) (23.1.0)\n",
      "Requirement already satisfied: frozenlist>=1.1.1 in d:\\anacondanavfile\\lib\\site-packages (from aiohttp<4.0.0,>=3.8.3->langchain-community<0.4.0,>=0.3.0->jupyter-ai-magics>=2.13.0->jupyter-ai) (1.4.0)\n",
      "Requirement already satisfied: multidict<7.0,>=4.5 in d:\\anacondanavfile\\lib\\site-packages (from aiohttp<4.0.0,>=3.8.3->langchain-community<0.4.0,>=0.3.0->jupyter-ai-magics>=2.13.0->jupyter-ai) (6.0.4)\n",
      "Requirement already satisfied: yarl<2.0,>=1.0 in d:\\anacondanavfile\\lib\\site-packages (from aiohttp<4.0.0,>=3.8.3->langchain-community<0.4.0,>=0.3.0->jupyter-ai-magics>=2.13.0->jupyter-ai) (1.11.0)\n",
      "Requirement already satisfied: pytz>=2015.7 in d:\\anacondanavfile\\lib\\site-packages (from babel>=2.10->jupyterlab-server<3,>=2.27.1->jupyterlab~=4.0->jupyter-ai) (2024.1)\n",
      "Requirement already satisfied: six>=1.9.0 in d:\\anacondanavfile\\lib\\site-packages (from bleach!=5.0.0->nbconvert>=6.4.4->jupyter-server<3,>=1.6->jupyter-ai) (1.16.0)\n",
      "Requirement already satisfied: webencodings in d:\\anacondanavfile\\lib\\site-packages (from bleach!=5.0.0->nbconvert>=6.4.4->jupyter-server<3,>=1.6->jupyter-ai) (0.5.1)\n",
      "Requirement already satisfied: marshmallow<4.0.0,>=3.18.0 in d:\\anacondanavfile\\lib\\site-packages (from dataclasses-json<0.7,>=0.5.7->langchain-community<0.4.0,>=0.3.0->jupyter-ai-magics>=2.13.0->jupyter-ai) (3.26.1)\n",
      "Requirement already satisfied: typing-inspect<1,>=0.4.0 in d:\\anacondanavfile\\lib\\site-packages (from dataclasses-json<0.7,>=0.5.7->langchain-community<0.4.0,>=0.3.0->jupyter-ai-magics>=2.13.0->jupyter-ai) (0.9.0)\n",
      "Requirement already satisfied: parso<0.9.0,>=0.8.3 in d:\\anacondanavfile\\lib\\site-packages (from jedi>=0.16->ipython->jupyter-ai-magics>=2.13.0->jupyter-ai) (0.8.3)\n",
      "Requirement already satisfied: jsonschema-specifications>=2023.03.6 in d:\\anacondanavfile\\lib\\site-packages (from jsonschema>=4.18.0->jsonschema[format-nongpl]>=4.18.0->jupyter-events>=0.9.0->jupyter-server<3,>=1.6->jupyter-ai) (2023.7.1)\n",
      "Requirement already satisfied: rpds-py>=0.7.1 in d:\\anacondanavfile\\lib\\site-packages (from jsonschema>=4.18.0->jsonschema[format-nongpl]>=4.18.0->jupyter-events>=0.9.0->jupyter-server<3,>=1.6->jupyter-ai) (0.10.6)\n",
      "Requirement already satisfied: fqdn in d:\\anacondanavfile\\lib\\site-packages (from jsonschema[format-nongpl]>=4.18.0->jupyter-events>=0.9.0->jupyter-server<3,>=1.6->jupyter-ai) (1.5.1)\n",
      "Requirement already satisfied: isoduration in d:\\anacondanavfile\\lib\\site-packages (from jsonschema[format-nongpl]>=4.18.0->jupyter-events>=0.9.0->jupyter-server<3,>=1.6->jupyter-ai) (20.11.0)\n",
      "Requirement already satisfied: jsonpointer>1.13 in d:\\anacondanavfile\\lib\\site-packages (from jsonschema[format-nongpl]>=4.18.0->jupyter-events>=0.9.0->jupyter-server<3,>=1.6->jupyter-ai) (2.1)\n",
      "Requirement already satisfied: uri-template in d:\\anacondanavfile\\lib\\site-packages (from jsonschema[format-nongpl]>=4.18.0->jupyter-events>=0.9.0->jupyter-server<3,>=1.6->jupyter-ai) (1.3.0)\n",
      "Requirement already satisfied: webcolors>=24.6.0 in d:\\anacondanavfile\\lib\\site-packages (from jsonschema[format-nongpl]>=4.18.0->jupyter-events>=0.9.0->jupyter-server<3,>=1.6->jupyter-ai) (24.11.1)\n",
      "Requirement already satisfied: jsonpatch<2.0,>=1.33 in d:\\anacondanavfile\\lib\\site-packages (from langchain-core<1.0.0,>=0.3.41->langchain<0.4.0,>=0.3.0->jupyter-ai-magics>=2.13.0->jupyter-ai) (1.33)\n",
      "Requirement already satisfied: orjson<4.0.0,>=3.9.14 in d:\\anacondanavfile\\lib\\site-packages (from langsmith<0.4,>=0.1.17->langchain<0.4.0,>=0.3.0->jupyter-ai-magics>=2.13.0->jupyter-ai) (3.10.15)\n",
      "Requirement already satisfied: requests-toolbelt<2.0.0,>=1.0.0 in d:\\anacondanavfile\\lib\\site-packages (from langsmith<0.4,>=0.1.17->langchain<0.4.0,>=0.3.0->jupyter-ai-magics>=2.13.0->jupyter-ai) (1.0.0)\n",
      "Requirement already satisfied: zstandard<0.24.0,>=0.23.0 in d:\\anacondanavfile\\lib\\site-packages (from langsmith<0.4,>=0.1.17->langchain<0.4.0,>=0.3.0->jupyter-ai-magics>=2.13.0->jupyter-ai) (0.23.0)\n",
      "Requirement already satisfied: wcwidth in d:\\anacondanavfile\\lib\\site-packages (from prompt-toolkit<3.1.0,>=3.0.41->ipython->jupyter-ai-magics>=2.13.0->jupyter-ai) (0.2.5)\n",
      "Requirement already satisfied: python-dotenv>=0.21.0 in d:\\anacondanavfile\\lib\\site-packages (from pydantic-settings<3.0.0,>=2.4.0->langchain-community<0.4.0,>=0.3.0->jupyter-ai-magics>=2.13.0->jupyter-ai) (0.21.0)\n",
      "Requirement already satisfied: charset-normalizer<4,>=2 in d:\\anacondanavfile\\lib\\site-packages (from requests>=2.31->jupyterlab-server<3,>=2.27.1->jupyterlab~=4.0->jupyter-ai) (3.3.2)\n",
      "Requirement already satisfied: greenlet!=0.4.17 in d:\\anacondanavfile\\lib\\site-packages (from SQLAlchemy<3,>=1.4->langchain<0.4.0,>=0.3.0->jupyter-ai-magics>=2.13.0->jupyter-ai) (3.0.1)\n",
      "Requirement already satisfied: cffi>=1.0.1 in d:\\anacondanavfile\\lib\\site-packages (from argon2-cffi-bindings->argon2-cffi>=21.1->jupyter-server<3,>=1.6->jupyter-ai) (1.17.1)\n",
      "Requirement already satisfied: soupsieve>1.2 in d:\\anacondanavfile\\lib\\site-packages (from beautifulsoup4->nbconvert>=6.4.4->jupyter-server<3,>=1.6->jupyter-ai) (2.5)\n",
      "Requirement already satisfied: executing in d:\\anacondanavfile\\lib\\site-packages (from stack-data->ipython->jupyter-ai-magics>=2.13.0->jupyter-ai) (0.8.3)\n",
      "Requirement already satisfied: asttokens in d:\\anacondanavfile\\lib\\site-packages (from stack-data->ipython->jupyter-ai-magics>=2.13.0->jupyter-ai) (2.0.5)\n",
      "Requirement already satisfied: pure-eval in d:\\anacondanavfile\\lib\\site-packages (from stack-data->ipython->jupyter-ai-magics>=2.13.0->jupyter-ai) (0.2.2)\n",
      "Requirement already satisfied: pycparser in d:\\anacondanavfile\\lib\\site-packages (from cffi>=1.0.1->argon2-cffi-bindings->argon2-cffi>=21.1->jupyter-server<3,>=1.6->jupyter-ai) (2.21)\n",
      "Requirement already satisfied: mypy-extensions>=0.3.0 in d:\\anacondanavfile\\lib\\site-packages (from typing-inspect<1,>=0.4.0->dataclasses-json<0.7,>=0.5.7->langchain-community<0.4.0,>=0.3.0->jupyter-ai-magics>=2.13.0->jupyter-ai) (1.0.0)\n",
      "Requirement already satisfied: arrow>=0.15.0 in d:\\anacondanavfile\\lib\\site-packages (from isoduration->jsonschema[format-nongpl]>=4.18.0->jupyter-events>=0.9.0->jupyter-server<3,>=1.6->jupyter-ai) (1.2.3)\n",
      "Note: you may need to restart the kernel to use updated packages.\n"
     ]
    }
   ],
   "source": [
    "pip install -U jupyter-ai"
   ]
  },
  {
   "cell_type": "code",
   "execution_count": 27,
   "id": "611cef90-460c-4a11-b76d-44b7fefd69cc",
   "metadata": {},
   "outputs": [
    {
     "data": {
      "text/html": [
       "<div>\n",
       "<style scoped>\n",
       "    .dataframe tbody tr th:only-of-type {\n",
       "        vertical-align: middle;\n",
       "    }\n",
       "\n",
       "    .dataframe tbody tr th {\n",
       "        vertical-align: top;\n",
       "    }\n",
       "\n",
       "    .dataframe thead th {\n",
       "        text-align: right;\n",
       "    }\n",
       "</style>\n",
       "<table border=\"1\" class=\"dataframe\">\n",
       "  <thead>\n",
       "    <tr style=\"text-align: right;\">\n",
       "      <th></th>\n",
       "      <th>Review</th>\n",
       "      <th>Rating</th>\n",
       "      <th>Sentiment</th>\n",
       "    </tr>\n",
       "  </thead>\n",
       "  <tbody>\n",
       "    <tr>\n",
       "      <th>248</th>\n",
       "      <td>Cannot load webpages in app or similar links</td>\n",
       "      <td>4</td>\n",
       "      <td>neutral</td>\n",
       "    </tr>\n",
       "    <tr>\n",
       "      <th>88</th>\n",
       "      <td>I'd really value 2 changes.1. A way ti mute Up...</td>\n",
       "      <td>2</td>\n",
       "      <td>positive</td>\n",
       "    </tr>\n",
       "    <tr>\n",
       "      <th>471</th>\n",
       "      <td>I love this app.it will help me expand my world!!</td>\n",
       "      <td>5</td>\n",
       "      <td>positive</td>\n",
       "    </tr>\n",
       "  </tbody>\n",
       "</table>\n",
       "</div>"
      ],
      "text/plain": [
       "                                                Review  Rating Sentiment\n",
       "248       Cannot load webpages in app or similar links       4   neutral\n",
       "88   I'd really value 2 changes.1. A way ti mute Up...       2  positive\n",
       "471  I love this app.it will help me expand my world!!       5  positive"
      ]
     },
     "execution_count": 27,
     "metadata": {},
     "output_type": "execute_result"
    }
   ],
   "source": [
    "df.sample(3)"
   ]
  },
  {
   "cell_type": "raw",
   "id": "97f9436c-f8f3-4290-b45f-d2641a562e34",
   "metadata": {},
   "source": [
    "Analysis App Review Sentiments \n"
   ]
  },
  {
   "cell_type": "code",
   "execution_count": 30,
   "id": "1e655efb-c043-4bb2-b782-fcefc3f83fa6",
   "metadata": {},
   "outputs": [
    {
     "data": {
      "text/plain": [
       "Sentiment\n",
       "neutral     300\n",
       "positive    295\n",
       "Negetive    107\n",
       "Name: count, dtype: int64"
      ]
     },
     "execution_count": 30,
     "metadata": {},
     "output_type": "execute_result"
    }
   ],
   "source": [
    "sentiments_distributions = df[\"Sentiment\"].value_counts()\n",
    "sentiments_distributions"
   ]
  },
  {
   "cell_type": "code",
   "execution_count": 33,
   "id": "a5a665f8-6ea9-4026-81e1-2f648709dc4c",
   "metadata": {},
   "outputs": [],
   "source": [
    "import matplotlib.pyplot as plt\n",
    "import seaborn as sns"
   ]
  },
  {
   "cell_type": "code",
   "execution_count": 35,
   "id": "5e7f4a22-f9f8-4a7f-b7f5-625e88fb57e7",
   "metadata": {},
   "outputs": [
    {
     "data": {
      "image/png": "[encoded data removed]",
      "text/plain": [
       "<Figure size 900x500 with 1 Axes>"
      ]
     },
     "metadata": {},
     "output_type": "display_data"
    }
   ],
   "source": [
    "plt.figure(figsize = (9,5))\n",
    "sns.barplot( x= sentiments_distributions.index , y = sentiments_distributions.values)\n",
    "plt.title('Disrtibution of Sentiments')\n",
    "plt.xlabel('Sentiment')\n",
    "plt.ylabel('Count')\n",
    "plt.show()"
   ]
  },
  {
   "cell_type": "code",
   "execution_count": null,
   "id": "7c14667a-a70e-4b0a-9a82-76095ae5b5ba",
   "metadata": {},
   "outputs": [],
   "source": []
  }
 ],
 "metadata": {
  "kernelspec": {
   "display_name": "Python 3 (ipykernel)",
   "language": "python",
   "name": "python3"
  },
  "language_info": {
   "codemirror_mode": {
    "name": "ipython",
    "version": 3
   },
   "file_extension": ".py",
   "mimetype": "text/x-python",
   "name": "python",
   "nbconvert_exporter": "python",
   "pygments_lexer": "ipython3",
   "version": "3.12.7"
  }
 },
 "nbformat": 4,
 "nbformat_minor": 5
}
