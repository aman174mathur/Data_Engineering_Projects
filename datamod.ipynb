{
 "cells": [
  {
   "cell_type": "markdown",
   "id": "d4356203-751d-47fc-8f3e-138c7ba15265",
   "metadata": {},
   "source": [
    "### import pandas as pd"
   ]
  },
  {
   "cell_type": "code",
   "execution_count": 4,
   "id": "dbb7dd4d-ab3b-4850-af9f-c8ceee34cc59",
   "metadata": {},
   "outputs": [],
   "source": [
    "df = pd.read_csv(\"flipkart.csv\")"
   ]
  },
  {
   "cell_type": "code",
   "execution_count": 5,
   "id": "9ab056ee-e6a0-4b3e-a368-6d0db3b97d77",
   "metadata": {},
   "outputs": [
    {
     "data": {
      "text/html": [
       "<div>\n",
       "<style scoped>\n",
       "    .dataframe tbody tr th:only-of-type {\n",
       "        vertical-align: middle;\n",
       "    }\n",
       "\n",
       "    .dataframe tbody tr th {\n",
       "        vertical-align: top;\n",
       "    }\n",
       "\n",
       "    .dataframe thead th {\n",
       "        text-align: right;\n",
       "    }\n",
       "</style>\n",
       "<table border=\"1\" class=\"dataframe\">\n",
       "  <thead>\n",
       "    <tr style=\"text-align: right;\">\n",
       "      <th></th>\n",
       "      <th>COMPANY</th>\n",
       "      <th>ARTICLE</th>\n",
       "      <th>PRICE</th>\n",
       "      <th>DISCOUNT</th>\n",
       "    </tr>\n",
       "  </thead>\n",
       "  <tbody>\n",
       "    <tr>\n",
       "      <th>0</th>\n",
       "      <td>TRIPR</td>\n",
       "      <td>Men Solid Henley Neck Cotton Blend Dark Green ...</td>\n",
       "      <td>1,999</td>\n",
       "      <td>86% off</td>\n",
       "    </tr>\n",
       "    <tr>\n",
       "      <th>1</th>\n",
       "      <td>TRIPR</td>\n",
       "      <td>Men Printed Hooded Neck Cotton Blend Black T-S...</td>\n",
       "      <td>1,399</td>\n",
       "      <td>82% off</td>\n",
       "    </tr>\n",
       "    <tr>\n",
       "      <th>2</th>\n",
       "      <td>THE BEAR HOUSE</td>\n",
       "      <td>Pack of 2 Men Checkered Polo Neck Cotton Blend...</td>\n",
       "      <td>1,290</td>\n",
       "      <td>40% off</td>\n",
       "    </tr>\n",
       "    <tr>\n",
       "      <th>3</th>\n",
       "      <td>sti</td>\n",
       "      <td>Men Solid Polo Neck Cotton Blend Pink T-Shirt</td>\n",
       "      <td>999</td>\n",
       "      <td>85% off</td>\n",
       "    </tr>\n",
       "    <tr>\n",
       "      <th>4</th>\n",
       "      <td>KAEZRI</td>\n",
       "      <td>Men Solid Round Neck Cotton Blend Black T-Shirt</td>\n",
       "      <td>1,999</td>\n",
       "      <td>82% off</td>\n",
       "    </tr>\n",
       "  </tbody>\n",
       "</table>\n",
       "</div>"
      ],
      "text/plain": [
       "          COMPANY                                            ARTICLE  PRICE  \\\n",
       "0           TRIPR  Men Solid Henley Neck Cotton Blend Dark Green ...  1,999   \n",
       "1           TRIPR  Men Printed Hooded Neck Cotton Blend Black T-S...  1,399   \n",
       "2  THE BEAR HOUSE  Pack of 2 Men Checkered Polo Neck Cotton Blend...  1,290   \n",
       "3             sti      Men Solid Polo Neck Cotton Blend Pink T-Shirt    999   \n",
       "4          KAEZRI    Men Solid Round Neck Cotton Blend Black T-Shirt  1,999   \n",
       "\n",
       "  DISCOUNT  \n",
       "0  86% off  \n",
       "1  82% off  \n",
       "2  40% off  \n",
       "3  85% off  \n",
       "4  82% off  "
      ]
     },
     "execution_count": 5,
     "metadata": {},
     "output_type": "execute_result"
    }
   ],
   "source": [
    "df.head()"
   ]
  },
  {
   "cell_type": "code",
   "execution_count": 6,
   "id": "9dfeb0ff-62e1-44df-91a1-570296f8739e",
   "metadata": {},
   "outputs": [
    {
     "data": {
      "text/html": [
       "<div>\n",
       "<style scoped>\n",
       "    .dataframe tbody tr th:only-of-type {\n",
       "        vertical-align: middle;\n",
       "    }\n",
       "\n",
       "    .dataframe tbody tr th {\n",
       "        vertical-align: top;\n",
       "    }\n",
       "\n",
       "    .dataframe thead th {\n",
       "        text-align: right;\n",
       "    }\n",
       "</style>\n",
       "<table border=\"1\" class=\"dataframe\">\n",
       "  <thead>\n",
       "    <tr style=\"text-align: right;\">\n",
       "      <th></th>\n",
       "      <th>COMPANY</th>\n",
       "      <th>ARTICLE</th>\n",
       "      <th>PRICE</th>\n",
       "      <th>DISCOUNT</th>\n",
       "    </tr>\n",
       "  </thead>\n",
       "  <tbody>\n",
       "    <tr>\n",
       "      <th>25</th>\n",
       "      <td>TRIPR</td>\n",
       "      <td>Men Geometric Print Polo Neck Pure Cotton Blac...</td>\n",
       "      <td>1,499</td>\n",
       "      <td>74% off</td>\n",
       "    </tr>\n",
       "    <tr>\n",
       "      <th>26</th>\n",
       "      <td>VeBNoR</td>\n",
       "      <td>Pack of 4 Men Solid Round Neck Polyester Multi...</td>\n",
       "      <td>888</td>\n",
       "      <td>74% off</td>\n",
       "    </tr>\n",
       "    <tr>\n",
       "      <th>27</th>\n",
       "      <td>MAX</td>\n",
       "      <td>Men Solid Round Neck Polycotton Maroon T-Shirt</td>\n",
       "      <td>999</td>\n",
       "      <td>78% off</td>\n",
       "    </tr>\n",
       "    <tr>\n",
       "      <th>28</th>\n",
       "      <td>ZEN1FASHION</td>\n",
       "      <td>Men Printed Round Neck Pure Cotton Black T-Shirt</td>\n",
       "      <td>1,299</td>\n",
       "      <td>77% off</td>\n",
       "    </tr>\n",
       "    <tr>\n",
       "      <th>29</th>\n",
       "      <td>BLIVE</td>\n",
       "      <td>Men Solid Round Neck Polyester Green T-Shirt</td>\n",
       "      <td>999</td>\n",
       "      <td>73% off</td>\n",
       "    </tr>\n",
       "  </tbody>\n",
       "</table>\n",
       "</div>"
      ],
      "text/plain": [
       "        COMPANY                                            ARTICLE  PRICE  \\\n",
       "25        TRIPR  Men Geometric Print Polo Neck Pure Cotton Blac...  1,499   \n",
       "26       VeBNoR  Pack of 4 Men Solid Round Neck Polyester Multi...    888   \n",
       "27          MAX     Men Solid Round Neck Polycotton Maroon T-Shirt    999   \n",
       "28  ZEN1FASHION   Men Printed Round Neck Pure Cotton Black T-Shirt  1,299   \n",
       "29        BLIVE       Men Solid Round Neck Polyester Green T-Shirt    999   \n",
       "\n",
       "   DISCOUNT  \n",
       "25  74% off  \n",
       "26  74% off  \n",
       "27  78% off  \n",
       "28  77% off  \n",
       "29  73% off  "
      ]
     },
     "execution_count": 6,
     "metadata": {},
     "output_type": "execute_result"
    }
   ],
   "source": [
    "df.tail()"
   ]
  },
  {
   "cell_type": "code",
   "execution_count": 7,
   "id": "1d7c8181-f517-4c59-9203-a4a1d7da771f",
   "metadata": {},
   "outputs": [
    {
     "data": {
      "text/html": [
       "<div>\n",
       "<style scoped>\n",
       "    .dataframe tbody tr th:only-of-type {\n",
       "        vertical-align: middle;\n",
       "    }\n",
       "\n",
       "    .dataframe tbody tr th {\n",
       "        vertical-align: top;\n",
       "    }\n",
       "\n",
       "    .dataframe thead th {\n",
       "        text-align: right;\n",
       "    }\n",
       "</style>\n",
       "<table border=\"1\" class=\"dataframe\">\n",
       "  <thead>\n",
       "    <tr style=\"text-align: right;\">\n",
       "      <th></th>\n",
       "      <th>COMPANY</th>\n",
       "      <th>ARTICLE</th>\n",
       "      <th>PRICE</th>\n",
       "      <th>DISCOUNT</th>\n",
       "    </tr>\n",
       "  </thead>\n",
       "  <tbody>\n",
       "    <tr>\n",
       "      <th>22</th>\n",
       "      <td>THE BEAR HOUSE</td>\n",
       "      <td>Men Solid Round Neck Pure Cotton Purple T-Shirt</td>\n",
       "      <td>1,399</td>\n",
       "      <td>85% off</td>\n",
       "    </tr>\n",
       "    <tr>\n",
       "      <th>5</th>\n",
       "      <td>TRIPR</td>\n",
       "      <td>Men Solid Mandarin Collar Cotton Blend Dark Gr...</td>\n",
       "      <td>1,999</td>\n",
       "      <td>85% off</td>\n",
       "    </tr>\n",
       "    <tr>\n",
       "      <th>17</th>\n",
       "      <td>MAX</td>\n",
       "      <td>Men Printed Polo Neck Polyester Green T-Shirt</td>\n",
       "      <td>699</td>\n",
       "      <td>77% off</td>\n",
       "    </tr>\n",
       "    <tr>\n",
       "      <th>6</th>\n",
       "      <td>VeBNoR</td>\n",
       "      <td>Pack of 4 Men Solid Round Neck Polyester Multi...</td>\n",
       "      <td>999</td>\n",
       "      <td>60% off</td>\n",
       "    </tr>\n",
       "  </tbody>\n",
       "</table>\n",
       "</div>"
      ],
      "text/plain": [
       "           COMPANY                                            ARTICLE  PRICE  \\\n",
       "22  THE BEAR HOUSE    Men Solid Round Neck Pure Cotton Purple T-Shirt  1,399   \n",
       "5            TRIPR  Men Solid Mandarin Collar Cotton Blend Dark Gr...  1,999   \n",
       "17             MAX      Men Printed Polo Neck Polyester Green T-Shirt    699   \n",
       "6           VeBNoR  Pack of 4 Men Solid Round Neck Polyester Multi...    999   \n",
       "\n",
       "   DISCOUNT  \n",
       "22  85% off  \n",
       "5   85% off  \n",
       "17  77% off  \n",
       "6   60% off  "
      ]
     },
     "execution_count": 7,
     "metadata": {},
     "output_type": "execute_result"
    }
   ],
   "source": [
    "df.sample(4)"
   ]
  },
  {
   "cell_type": "code",
   "execution_count": 8,
   "id": "41718b43-7fa5-4c0d-a336-4acd42492379",
   "metadata": {},
   "outputs": [
    {
     "data": {
      "text/html": [
       "<div>\n",
       "<style scoped>\n",
       "    .dataframe tbody tr th:only-of-type {\n",
       "        vertical-align: middle;\n",
       "    }\n",
       "\n",
       "    .dataframe tbody tr th {\n",
       "        vertical-align: top;\n",
       "    }\n",
       "\n",
       "    .dataframe thead th {\n",
       "        text-align: right;\n",
       "    }\n",
       "</style>\n",
       "<table border=\"1\" class=\"dataframe\">\n",
       "  <thead>\n",
       "    <tr style=\"text-align: right;\">\n",
       "      <th></th>\n",
       "      <th>COMPANY</th>\n",
       "      <th>ARTICLE</th>\n",
       "      <th>PRICE</th>\n",
       "      <th>DISCOUNT</th>\n",
       "    </tr>\n",
       "  </thead>\n",
       "  <tbody>\n",
       "    <tr>\n",
       "      <th>count</th>\n",
       "      <td>30</td>\n",
       "      <td>30</td>\n",
       "      <td>30</td>\n",
       "      <td>30</td>\n",
       "    </tr>\n",
       "    <tr>\n",
       "      <th>unique</th>\n",
       "      <td>8</td>\n",
       "      <td>28</td>\n",
       "      <td>18</td>\n",
       "      <td>19</td>\n",
       "    </tr>\n",
       "    <tr>\n",
       "      <th>top</th>\n",
       "      <td>TRIPR</td>\n",
       "      <td>Pack of 4 Men Solid Round Neck Polyester Multi...</td>\n",
       "      <td>999</td>\n",
       "      <td>85% off</td>\n",
       "    </tr>\n",
       "    <tr>\n",
       "      <th>freq</th>\n",
       "      <td>9</td>\n",
       "      <td>2</td>\n",
       "      <td>7</td>\n",
       "      <td>4</td>\n",
       "    </tr>\n",
       "  </tbody>\n",
       "</table>\n",
       "</div>"
      ],
      "text/plain": [
       "       COMPANY                                            ARTICLE PRICE  \\\n",
       "count       30                                                 30    30   \n",
       "unique       8                                                 28    18   \n",
       "top      TRIPR  Pack of 4 Men Solid Round Neck Polyester Multi...   999   \n",
       "freq         9                                                  2     7   \n",
       "\n",
       "       DISCOUNT  \n",
       "count        30  \n",
       "unique       19  \n",
       "top     85% off  \n",
       "freq          4  "
      ]
     },
     "execution_count": 8,
     "metadata": {},
     "output_type": "execute_result"
    }
   ],
   "source": [
    "df.describe()"
   ]
  },
  {
   "cell_type": "code",
   "execution_count": 9,
   "id": "b5bb5d0b-0211-45a3-9b7c-1a819b289563",
   "metadata": {},
   "outputs": [
    {
     "name": "stdout",
     "output_type": "stream",
     "text": [
      "<class 'pandas.core.frame.DataFrame'>\n",
      "RangeIndex: 30 entries, 0 to 29\n",
      "Data columns (total 4 columns):\n",
      " #   Column    Non-Null Count  Dtype \n",
      "---  ------    --------------  ----- \n",
      " 0   COMPANY   30 non-null     object\n",
      " 1   ARTICLE   30 non-null     object\n",
      " 2   PRICE     30 non-null     object\n",
      " 3   DISCOUNT  30 non-null     object\n",
      "dtypes: object(4)\n",
      "memory usage: 1.1+ KB\n"
     ]
    }
   ],
   "source": [
    "df.info()"
   ]
  },
  {
   "cell_type": "code",
   "execution_count": 10,
   "id": "39122a20-bfe3-46ef-b6e4-d22066f79670",
   "metadata": {},
   "outputs": [
    {
     "data": {
      "text/html": [
       "<div>\n",
       "<style scoped>\n",
       "    .dataframe tbody tr th:only-of-type {\n",
       "        vertical-align: middle;\n",
       "    }\n",
       "\n",
       "    .dataframe tbody tr th {\n",
       "        vertical-align: top;\n",
       "    }\n",
       "\n",
       "    .dataframe thead th {\n",
       "        text-align: right;\n",
       "    }\n",
       "</style>\n",
       "<table border=\"1\" class=\"dataframe\">\n",
       "  <thead>\n",
       "    <tr style=\"text-align: right;\">\n",
       "      <th></th>\n",
       "      <th>ARTICLE</th>\n",
       "      <th>PRICE</th>\n",
       "    </tr>\n",
       "  </thead>\n",
       "  <tbody>\n",
       "    <tr>\n",
       "      <th>3</th>\n",
       "      <td>Men Solid Polo Neck Cotton Blend Pink T-Shirt</td>\n",
       "      <td>999</td>\n",
       "    </tr>\n",
       "    <tr>\n",
       "      <th>4</th>\n",
       "      <td>Men Solid Round Neck Cotton Blend Black T-Shirt</td>\n",
       "      <td>1,999</td>\n",
       "    </tr>\n",
       "    <tr>\n",
       "      <th>5</th>\n",
       "      <td>Men Solid Mandarin Collar Cotton Blend Dark Gr...</td>\n",
       "      <td>1,999</td>\n",
       "    </tr>\n",
       "  </tbody>\n",
       "</table>\n",
       "</div>"
      ],
      "text/plain": [
       "                                             ARTICLE  PRICE\n",
       "3      Men Solid Polo Neck Cotton Blend Pink T-Shirt    999\n",
       "4    Men Solid Round Neck Cotton Blend Black T-Shirt  1,999\n",
       "5  Men Solid Mandarin Collar Cotton Blend Dark Gr...  1,999"
      ]
     },
     "execution_count": 10,
     "metadata": {},
     "output_type": "execute_result"
    }
   ],
   "source": [
    "df.loc[3:5,[\"ARTICLE\",\"PRICE\"]]"
   ]
  },
  {
   "cell_type": "code",
   "execution_count": 11,
   "id": "b98f7c62-fbd5-4678-ac3d-0aac5c4e1d7d",
   "metadata": {},
   "outputs": [
    {
     "data": {
      "text/html": [
       "<div>\n",
       "<style scoped>\n",
       "    .dataframe tbody tr th:only-of-type {\n",
       "        vertical-align: middle;\n",
       "    }\n",
       "\n",
       "    .dataframe tbody tr th {\n",
       "        vertical-align: top;\n",
       "    }\n",
       "\n",
       "    .dataframe thead th {\n",
       "        text-align: right;\n",
       "    }\n",
       "</style>\n",
       "<table border=\"1\" class=\"dataframe\">\n",
       "  <thead>\n",
       "    <tr style=\"text-align: right;\">\n",
       "      <th></th>\n",
       "      <th>COMPANY</th>\n",
       "      <th>DISCOUNT</th>\n",
       "    </tr>\n",
       "  </thead>\n",
       "  <tbody>\n",
       "    <tr>\n",
       "      <th>3</th>\n",
       "      <td>sti</td>\n",
       "      <td>85% off</td>\n",
       "    </tr>\n",
       "    <tr>\n",
       "      <th>4</th>\n",
       "      <td>KAEZRI</td>\n",
       "      <td>82% off</td>\n",
       "    </tr>\n",
       "  </tbody>\n",
       "</table>\n",
       "</div>"
      ],
      "text/plain": [
       "  COMPANY DISCOUNT\n",
       "3     sti  85% off\n",
       "4  KAEZRI  82% off"
      ]
     },
     "execution_count": 11,
     "metadata": {},
     "output_type": "execute_result"
    }
   ],
   "source": [
    "df.iloc[3:5,[0,3]]"
   ]
  },
  {
   "cell_type": "code",
   "execution_count": 19,
   "id": "16d5c340-a298-4849-bd0c-882fbdf604fa",
   "metadata": {},
   "outputs": [],
   "source": [
    "df['PRICE'][1]=12333"
   ]
  },
  {
   "cell_type": "code",
   "execution_count": 20,
   "id": "c1f524d4-d123-4dc7-993e-4555c8a55003",
   "metadata": {},
   "outputs": [
    {
     "data": {
      "text/plain": [
       "12333"
      ]
     },
     "execution_count": 20,
     "metadata": {},
     "output_type": "execute_result"
    }
   ],
   "source": [
    "df['PRICE'][1]"
   ]
  },
  {
   "cell_type": "code",
   "execution_count": 21,
   "id": "0d37382b-ba29-4d99-baca-8345fb622170",
   "metadata": {},
   "outputs": [],
   "source": [
    "df.to_csv('flipkart1.csv', index = False)"
   ]
  },
  {
   "cell_type": "code",
   "execution_count": null,
   "id": "066a10dc-b5cb-4f5c-940a-a16a383236d2",
   "metadata": {},
   "outputs": [],
   "source": []
  }
 ],
 "metadata": {
  "kernelspec": {
   "display_name": "Python 3 (ipykernel)",
   "language": "python",
   "name": "python3"
  },
  "language_info": {
   "codemirror_mode": {
    "name": "ipython",
    "version": 3
   },
   "file_extension": ".py",
   "mimetype": "text/x-python",
   "name": "python",
   "nbconvert_exporter": "python",
   "pygments_lexer": "ipython3",
   "version": "3.12.7"
  }
 },
 "nbformat": 4,
 "nbformat_minor": 5
}
